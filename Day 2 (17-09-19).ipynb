{
 "cells": [
  {
   "cell_type": "markdown",
   "metadata": {},
   "source": [
    "# Functional programming\n",
    "- Single\n",
    "- easy understand\n",
    "- better reuseability\n",
    "- lenghty program will be divided into sub programs\n"
   ]
  },
  {
   "cell_type": "code",
   "execution_count": 9,
   "metadata": {},
   "outputs": [],
   "source": [
    "def nameofthefunction(parametrers):\n",
    "    statements\n",
    "    return"
   ]
  },
  {
   "cell_type": "code",
   "execution_count": 10,
   "metadata": {},
   "outputs": [
    {
     "data": {
      "text/plain": [
       "6"
      ]
     },
     "execution_count": 10,
     "metadata": {},
     "output_type": "execute_result"
    }
   ],
   "source": [
    "# Read a number\n",
    "# print the even digit sum from the number\n",
    "\n",
    "# input : 1234\n",
    "# output : 6(2+4)\n",
    "def evenDigitSum(n):\n",
    "    s=0\n",
    "    while n!=0:\n",
    "        r=n %10\n",
    "        if r %2 ==0:\n",
    "            s=s+r\n",
    "        n=n//10\n",
    "    return s\n",
    "evenDigitSum(1234)\n"
   ]
  },
  {
   "cell_type": "code",
   "execution_count": 15,
   "metadata": {},
   "outputs": [
    {
     "data": {
      "text/plain": [
       "9"
      ]
     },
     "execution_count": 15,
     "metadata": {},
     "output_type": "execute_result"
    }
   ],
   "source": [
    "# input :19535\n",
    "# output :9(largest number)\n",
    "\n",
    "def largeNum(n):\n",
    "    s=0\n",
    "    while n!=0:\n",
    "        r=n%10\n",
    "        if r>s:\n",
    "            s=r\n",
    "        n=n//10\n",
    "    return s\n",
    "largeNum(15935)"
   ]
  },
  {
   "cell_type": "code",
   "execution_count": 3,
   "metadata": {},
   "outputs": [
    {
     "name": "stdout",
     "output_type": "stream",
     "text": [
      "enter number123\n",
      "no\n"
     ]
    }
   ],
   "source": [
    "# input :145\n",
    "# output :yes\n",
    "\n",
    "# input :123\n",
    "# output :no\n",
    "\n",
    "def digitFactorial(n):\n",
    "    fact=1\n",
    "    for i in range(1,n+1):\n",
    "        fact=fact*i\n",
    "    return fact\n",
    "def getSum(n):\n",
    "    sum=0\n",
    "    while n!=0:\n",
    "        x=n%10\n",
    "        sum=sum+digitFactorial(x)\n",
    "        n=n//10\n",
    "    return sum\n",
    "def check():\n",
    "    number=int(input('enter number'))\n",
    "    \n",
    "    if getSum(number)==number:\n",
    "        print('yes')\n",
    "    else:\n",
    "        print('no')\n",
    "\n",
    "check()"
   ]
  },
  {
   "cell_type": "code",
   "execution_count": 5,
   "metadata": {},
   "outputs": [
    {
     "name": "stdout",
     "output_type": "stream",
     "text": [
      "enter a number2223\n"
     ]
    },
    {
     "data": {
      "text/plain": [
       "'not palindrome'"
      ]
     },
     "execution_count": 5,
     "metadata": {},
     "output_type": "execute_result"
    }
   ],
   "source": [
    "# read a number as input\n",
    "# output palindrome or not\n",
    "\n",
    "def palindrome(n):\n",
    "    rev=0\n",
    "    buffer=n\n",
    "    while n!=0:\n",
    "        rev=rev*10+(n%10)\n",
    "        n=n//10\n",
    "    if buffer==rev:\n",
    "        return \"palindrome\"\n",
    "    return \"not palindrome\"\n",
    "palindrome(int(input(\"enter a number\")))"
   ]
  },
  {
   "cell_type": "code",
   "execution_count": 1,
   "metadata": {},
   "outputs": [
    {
     "name": "stdout",
     "output_type": "stream",
     "text": [
      "-2 -1 0 1 2 3 4 5 6 7 8 9 10 11 12 13 14 15 16 17 18 19 20 21 22 23 24 25 "
     ]
    }
   ],
   "source": [
    "# input :11 25\n",
    "# output :11 12 13 .....\n",
    "\n",
    "def printRange(a,b):\n",
    "    for x in range(a,b+1):\n",
    "        print(x,end=\" \")\n",
    "printRange(-2,25)"
   ]
  },
  {
   "cell_type": "code",
   "execution_count": 5,
   "metadata": {},
   "outputs": [
    {
     "name": "stdout",
     "output_type": "stream",
     "text": [
      "1 3 5 7 9 11 13 15 17 19 "
     ]
    }
   ],
   "source": [
    "# input :(500,520)\n",
    "# ouput :502,504,506.....\n",
    "\n",
    "def altNumbers(a,b):\n",
    "    for x in range(a,b+1,2):\n",
    "        print(x,end=\" \")\n",
    "altNumbers(1,20)"
   ]
  },
  {
   "cell_type": "code",
   "execution_count": null,
   "metadata": {},
   "outputs": [],
   "source": []
  }
 ],
 "metadata": {
  "kernelspec": {
   "display_name": "Python 3",
   "language": "python",
   "name": "python3"
  },
  "language_info": {
   "codemirror_mode": {
    "name": "ipython",
    "version": 3
   },
   "file_extension": ".py",
   "mimetype": "text/x-python",
   "name": "python",
   "nbconvert_exporter": "python",
   "pygments_lexer": "ipython3",
   "version": "3.7.3"
  }
 },
 "nbformat": 4,
 "nbformat_minor": 2
}
