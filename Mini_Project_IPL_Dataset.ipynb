{
 "cells": [
  {
   "cell_type": "markdown",
   "metadata": {},
   "source": [
    "# MINI-PROJECT"
   ]
  },
  {
   "cell_type": "markdown",
   "metadata": {},
   "source": [
    "Project on IPL Data set\n",
    "download Match.csv\n",
    "\n",
    "1.Display the count of matches based on the year wise\n",
    "\n",
    "2.Plot a bar graph  no. of matches won by each team in the year  2011\n",
    "\n",
    "3.Print  ManOfMatch count of each player in  Hyderabad stadium\n",
    "\n",
    "\n",
    "\n",
    "-Yogesh Chandrasekharuni\n",
    " 12810302011\n",
    "    "
   ]
  },
  {
   "cell_type": "code",
   "execution_count": 52,
   "metadata": {},
   "outputs": [
    {
     "name": "stdout",
     "output_type": "stream",
     "text": [
      "The year and the number of matches in it are as follows:\n",
      "2013    76\n",
      "2012    74\n",
      "2011    73\n",
      "2017    60\n",
      "2016    60\n",
      "2014    60\n",
      "2010    60\n",
      "2015    59\n",
      "2008    58\n",
      "2009    57\n",
      "Name: Season_Year, dtype: int64\n"
     ]
    }
   ],
   "source": [
    "\n",
    "#1. Display the count of matches based on year wise\n",
    "\n",
    "import numpy as np\n",
    "import matplotlib.pyplot as plt\n",
    "import pandas as pd\n",
    "\n",
    "file_path = '/Users/yogeshchandrasekharuni/Downloads/Match.csv'\n",
    "\n",
    "def readCSVdata(filePath):\n",
    "    return pd.read_csv(filePath)\n",
    "\n",
    "df = readCSVdata(file_path)\n",
    "\n",
    "def countNoOfMatches():\n",
    "    numberOfMatches = df['Season_Year'].value_counts()\n",
    "    print(\"The year and the number of matches in it are as follows:\")\n",
    "    print(numberOfMatches)\n",
    "    \n",
    "\n",
    "countNoOfMatches()\n",
    "\n"
   ]
  },
  {
   "cell_type": "code",
   "execution_count": 58,
   "metadata": {},
   "outputs": [
    {
     "data": {
      "text/plain": [
       "<BarContainer object of 10 artists>"
      ]
     },
     "execution_count": 58,
     "metadata": {},
     "output_type": "execute_result"
    },
    {
     "data": {
      "image/png": "[encoded data removed]",
      "text/plain": [
       "<Figure size 432x288 with 1 Axes>"
      ]
     },
     "metadata": {
      "needs_background": "light"
     },
     "output_type": "display_data"
    }
   ],
   "source": [
    "#2.Plot a bar graph no. of matches won by each team in the year 2011\n",
    "\n",
    "(kkr, mi, csk, dd, kxip, rr, dc, rcb, ktk, pw) = (0, 0, 0, 0, 0, 0, 0, 0, 0, 0)\n",
    "\n",
    "for i in range(175, 248):\n",
    "    if df[\"match_winner\"][i] == \"Kolkata Knight Riders\":\n",
    "        kkr += 1\n",
    "    elif df[\"match_winner\"][i] == \"Mumbai Indians\":\n",
    "        mi += 1\n",
    "    elif df[\"match_winner\"][i] == \"Chennai Super Kings\":\n",
    "        csk += 1\n",
    "    elif df[\"match_winner\"][i] == \"Delhi Daredevils\":\n",
    "        dd += 1\n",
    "    elif df[\"match_winner\"][i] == \"Kings XI Punjab\":\n",
    "        kxip += 1\n",
    "    elif df[\"match_winner\"][i] ==  \"Rajasthan Royals\":\n",
    "        rr += 1 \n",
    "    elif df[\"match_winner\"][i] == \"Deccan Chargers\":\n",
    "        dc += 1\n",
    "    elif df[\"match_winner\"][i] == \"Royal Challengers Bangalore\":\n",
    "        rcb += 1\n",
    "    elif df[\"match_winner\"][i] == \"Kochi Tuskers Kerala\":\n",
    "        ktk += 1\n",
    "    else:\n",
    "        pw += 1\n",
    "\n",
    "\n",
    "a1 = [\"kkr\", 'mi', 'csk', 'dd', 'kxip', 'rr', 'dc', 'rcb', 'ktk', \"pw\"]\n",
    "a2 = [kkr, mi, csk, dd, kxip, rr, dc, rcb, ktk, pw]\n",
    "\n",
    "\n",
    "\n",
    "\n",
    "index = np.arange(len(a1))\n",
    "width = 0.70\n",
    "\n",
    "plt.bar(a1, a2, color='blue', width = 0.70)"
   ]
  },
  {
   "cell_type": "code",
   "execution_count": 80,
   "metadata": {},
   "outputs": [
    {
     "name": "stdout",
     "output_type": "stream",
     "text": [
      "The players and the number of matches they have gotten man of watch in Hyderabad are as follows:\n",
      "DA Warner            6\n",
      "DW Steyn             3\n",
      "V Sehwag             2\n",
      "A Mishra             2\n",
      "YK Pathan            2\n",
      "SK Raina             2\n",
      "GH Vihari            2\n",
      "MJ McClenaghan       1\n",
      "PA Patel             1\n",
      "AB Dinda             1\n",
      "WP Saha              1\n",
      "V Kohli              1\n",
      "SK Trivedi           1\n",
      "B Kumar              1\n",
      "UT Yadav             1\n",
      "G Gambhir            1\n",
      "Mandeep Singh        1\n",
      "PC Valthaty          1\n",
      "SC Ganguly           1\n",
      "DJ Bravo             1\n",
      "I Sharma             1\n",
      "SL Malinga           1\n",
      "CH Morris            1\n",
      "AT Rayudu            1\n",
      "R Vinay Kumar        1\n",
      "Mustafizur Rahman    1\n",
      "SE Marsh             1\n",
      "DJG Sammy            1\n",
      "MR Marsh             1\n",
      "Name: ManOfMach, dtype: int64\n"
     ]
    }
   ],
   "source": [
    "#3.Print  ManOfMatch count of each player in  Hyderabad stadium\n",
    "\n",
    "dp = df[df[\"City_Name\"] == \"Hyderabad\"]\n",
    "\n",
    "print(\"The players and the number of matches they have gotten man of watch in Hyderabad are as follows:\")\n",
    "print(dp[\"ManOfMach\"].value_counts())"
   ]
  }
 ],
 "metadata": {
  "kernelspec": {
   "display_name": "Python 3",
   "language": "python",
   "name": "python3"
  },
  "language_info": {
   "codemirror_mode": {
    "name": "ipython",
    "version": 3
   },
   "file_extension": ".py",
   "mimetype": "text/x-python",
   "name": "python",
   "nbconvert_exporter": "python",
   "pygments_lexer": "ipython3",
   "version": "3.7.3"
  }
 },
 "nbformat": 4,
 "nbformat_minor": 2
}
