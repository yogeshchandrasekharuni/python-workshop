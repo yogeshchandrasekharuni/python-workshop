{
 "cells": [
  {
   "cell_type": "markdown",
   "metadata": {},
   "source": [
    "# Tuples"
   ]
  },
  {
   "cell_type": "code",
   "execution_count": 1,
   "metadata": {},
   "outputs": [
    {
     "name": "stdout",
     "output_type": "stream",
     "text": [
      "(1, 2, 3, 4, 5)\n"
     ]
    }
   ],
   "source": [
    "t1 = (1, 2, 3, 4, 5)\n",
    "print(t1)\n"
   ]
  },
  {
   "cell_type": "code",
   "execution_count": 8,
   "metadata": {},
   "outputs": [
    {
     "name": "stdout",
     "output_type": "stream",
     "text": [
      "(5, 4, 3, 2, 1)\n"
     ]
    }
   ],
   "source": [
    "print(t1[-1::-1])"
   ]
  },
  {
   "cell_type": "markdown",
   "metadata": {},
   "source": [
    "### Standard Libraries\n",
    "\n",
    "- Regular Expressions\n",
    "    - To validate Indian number\n",
    "    - To validate Email ID\n",
    "    - To validate the username\n",
    "    - To validate the password\n",
    "    \n",
    "- Understanding the regular expression\n",
    "    - [0-9] -- Any digit matching\n",
    "    - [a-z] -- Any lower case matching\n",
    "    - [A-Z] -- Any upper case matching\n",
    "    - Cap symbol is used to represent the start of Regular Expression\n",
    "    - Dollar symbol is used to represent the end of Regular Expression\n",
    "    "
   ]
  },
  {
   "cell_type": "code",
   "execution_count": 9,
   "metadata": {},
   "outputs": [
    {
     "name": "stdout",
     "output_type": "stream",
     "text": [
      "True\n",
      "False\n"
     ]
    }
   ],
   "source": [
    "# Function to test the two digit number as input\n",
    "#True -- input two digit\n",
    "#False -- if not two digit number\n",
    "\n",
    "import re\n",
    "\n",
    "def twoDigitMatch(n):\n",
    "    n = str(n)\n",
    "    pattern = '^[0-9]{2}$'\n",
    "    if re.match(pattern, n):\n",
    "        return True\n",
    "    return False\n",
    "\n",
    "print(twoDigitMatch(12)) #True\n",
    "print(twoDigitMatch(123)) #False"
   ]
  },
  {
   "cell_type": "code",
   "execution_count": 10,
   "metadata": {},
   "outputs": [
    {
     "name": "stdout",
     "output_type": "stream",
     "text": [
      "True\n",
      "False\n",
      "False\n",
      "False\n"
     ]
    }
   ],
   "source": [
    "#Function check the validity of a username\n",
    "#Username must have 5-11 characters\n",
    "#Username should contain lowercase and uppercase letters\n",
    "\n",
    "def checkUsername(username):\n",
    "    pattern = '^[a-zA-Z]{5,11}$'\n",
    "    if re.match(pattern, username):\n",
    "        return True\n",
    "    return False\n",
    "\n",
    "print(checkUsername(\"Yogesh\"))\n",
    "print(checkUsername(\"yog\"))\n",
    "print(checkUsername(\"YogeshChandrasekharuni\"))\n",
    "print(checkUsername(\"yogi123\"))"
   ]
  },
  {
   "cell_type": "markdown",
   "metadata": {},
   "source": [
    "### Regular Expression \n",
    "- Regular expression for Roll Number\n",
    "    - Example: 1521A0501 #Valid\n",
    "    - Example: 1621A0574 #Not valid\n",
    "\n",
    "- Regular expression for Password\n",
    "    - Password len : 6-10\n",
    "    - Accept lower case, upper case, digits and special characters\n",
    "    - Example: Pass123@21 #Valid\n",
    "    - Example: Pass12*21 #Not Valid"
   ]
  },
  {
   "cell_type": "markdown",
   "metadata": {},
   "source": [
    "#### Regular Expression for Indian Number\n",
    "- 10 Digit Number\n",
    "    - First number 6-9\n",
    "    - Rest can be 0-9\n",
    "- 11 Digit Number\n",
    "    - First number has to be 0\n",
    "    - Second 6-9\n",
    "    - Rest can be 0-9\n",
    "- 13 Digit Number\n",
    "    - First can be +\n",
    "    - Second 9\n",
    "    - Third 1\n",
    "    - Fourth 6-9\n",
    "    - Rest 0-9"
   ]
  },
  {
   "cell_type": "code",
   "execution_count": 22,
   "metadata": {},
   "outputs": [
    {
     "name": "stdout",
     "output_type": "stream",
     "text": [
      "True\n",
      "False\n",
      "True\n",
      "False\n",
      "False\n",
      "True\n",
      "False\n"
     ]
    }
   ],
   "source": [
    "#Function to test an Indian phone number\n",
    "#Condtion:\n",
    "#      - First digit: 6-9\n",
    "#      - Total 10 digits\n",
    "\n",
    "import re\n",
    "\n",
    "def checkNumber(num):\n",
    "    pattern = None\n",
    "    num = str(num)\n",
    "    if len(num) == 10:\n",
    "        pattern = '^[6-9][0-9]{9}$'\n",
    "    elif len(num) == 11:\n",
    "        pattern = '^[0][6-9][0-9]{9}$'\n",
    "    elif len(num) == 13:\n",
    "        pattern = '^[+][9][1][6-9][0-9]{9}$'\n",
    "    else:\n",
    "       #print('y')\n",
    "        return False\n",
    "    if re.match(pattern, num):\n",
    "        return True\n",
    "    else:\n",
    "        return False\n",
    "    \n",
    "print(checkNumber(7032521800)) #True\n",
    "print(checkNumber(703252180)) #False\n",
    "print(checkNumber('+916703252180')) #True\n",
    "print(checkNumber('+927032521800')) #False\n",
    "print(checkNumber(5123456789)) #False\n",
    "print(checkNumber('07032521800')) #True\n",
    "print(checkNumber('05032521800')) #False\n",
    "    "
   ]
  },
  {
   "cell_type": "markdown",
   "metadata": {},
   "source": [
    "### Validate the Email ID\n",
    "- Example: userName@domainName.extension\n",
    "- Example: yogeshchandrasekharuni@gmail.com\n",
    "- Username:\n",
    "    - Len of string will be 6-15\n",
    "    - No spl characters except '_' and '.'`\n",
    "    - Username can't begin with '_'\n",
    "    - All character sets like digit, lower case, upper case\n",
    "        - Example: Yogesh_2000\n",
    "        \n",
    "- DomainName:\n",
    "    - Len of string 3-18\n",
    "    - No spl chars\n",
    "    - characters : digits, lower, upper cases\n",
    "        - Example: gmail, hotmail\n",
    "        \n",
    "- Extension:\n",
    "    - Len of string 2-4\n",
    "    - No characters allowed\n",
    "    - Character set will lower case letters\n",
    "        - Example: com, in, uk\n",
    "        \n",
    "        "
   ]
  },
  {
   "cell_type": "code",
   "execution_count": 33,
   "metadata": {},
   "outputs": [
    {
     "name": "stdout",
     "output_type": "stream",
     "text": [
      "5\n",
      "False\n"
     ]
    }
   ],
   "source": [
    "#Program to validate Email using classic method\n",
    "\n",
    "def validateEmail(email):\n",
    "    if email.find('@') == -1 or email.find('.') == -1:\n",
    "        return False\n",
    "    li = email.split('@')\n",
    "    userName = li[0]\n",
    "    li = li[1].split('.')\n",
    "    domainName = li[0]\n",
    "    extension = li[1]\n",
    "    if len(userName) < 6 or len(userName) > 15:\n",
    "        return False\n",
    "    for i in userName:\n",
    "        if i.isalpha() or i == '_' or i == '.':\n",
    "            continue;\n",
    "        else:\n",
    "            return False\n",
    "    if userName[0] == '_' or userName[0] == '.':\n",
    "        return False\n",
    "    if len(domainName) < 3 or len(domainName) > 18:\n",
    "        return False\n",
    "    for i in domainName:\n",
    "        if i.isalpha() == False and i.isnumeric() == False:\n",
    "            return False\n",
    "    if len(extension) < 2 or len(extension) > 4:\n",
    "        return False\n",
    "    for i in extension:\n",
    "        if i.isalpha():\n",
    "            if i.isupper():\n",
    "                return False\n",
    "            elif i.islower():\n",
    "                continue\n",
    "        else:\n",
    "            return False\n",
    "    return True\n",
    "\n",
    "print(validateEmail(\"yogesch@gmail.cm\"))\n",
    "    "
   ]
  },
  {
   "cell_type": "code",
   "execution_count": 36,
   "metadata": {},
   "outputs": [
    {
     "name": "stdout",
     "output_type": "stream",
     "text": [
      "True\n"
     ]
    }
   ],
   "source": [
    "#Program to validate email using Regular Expression\n",
    "\n",
    "#Username RE : [0-9a-zA-Z][0-9a-zA-Z_.]{5,14}\n",
    "#At the rate symbol : [@]\n",
    "#Domain RE : [0-9a-zA-Z]{3,18}\n",
    "#Dot symbol : [.]\n",
    "#Extension : [a-z]{2,4}\n",
    "\n",
    "#Total RE : [0-9a-zA-Z][0-9a-zA-Z_.]{5,14}[@][0-9a-zA-Z]{3,18}[.][a-z]{2,4}\n",
    "\n",
    "import re\n",
    "\n",
    "def validateEmail(email):\n",
    "    pattern = \"[0-9a-zA-Z][0-9a-zA-Z_.]{5,14}[@][0-9a-zA-Z]{3,18}[.][a-z]{2,4}\"\n",
    "    if re.match(pattern, email):\n",
    "        return True\n",
    "    else:\n",
    "        return False\n",
    "    \n",
    "print(validateEmail(\"yogeshch@gmail.com\"))"
   ]
  },
  {
   "cell_type": "code",
   "execution_count": null,
   "metadata": {},
   "outputs": [],
   "source": []
  }
 ],
 "metadata": {
  "kernelspec": {
   "display_name": "Python 3",
   "language": "python",
   "name": "python3"
  },
  "language_info": {
   "codemirror_mode": {
    "name": "ipython",
    "version": 3
   },
   "file_extension": ".py",
   "mimetype": "text/x-python",
   "name": "python",
   "nbconvert_exporter": "python",
   "pygments_lexer": "ipython3",
   "version": "3.7.3"
  }
 },
 "nbformat": 4,
 "nbformat_minor": 2
}
