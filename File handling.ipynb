{
 "cells": [
  {
   "cell_type": "markdown",
   "metadata": {},
   "source": [
    "#File Handling in Python"
   ]
  },
  {
   "cell_type": "code",
   "execution_count": 4,
   "metadata": {},
   "outputs": [
    {
     "name": "stdout",
     "output_type": "stream",
     "text": [
      "Written\n",
      "Appended\n",
      "Henlo frenHow are you today?\n"
     ]
    }
   ],
   "source": [
    "#program to write a file\n",
    "\n",
    "def writeFile(filename):\n",
    "    f = open(filename, 'w')\n",
    "    f.write(\"Henlo fren\")\n",
    "    f.close()\n",
    "    return \"Written\"\n",
    "\n",
    "def appendFile(filename):\n",
    "    f = open(filename, 'a')\n",
    "    f.write(\"How are you today?\")\n",
    "    f.close()\n",
    "    return \"Appended\"\n",
    "\n",
    "def readFile(filename):\n",
    "    f = open(filename, 'r')\n",
    "    a = f.read()\n",
    "    return a\n",
    "    f.close()\n",
    "\n",
    "print(writeFile(\"data.txt\"))\n",
    "print(appendFile(\"data.txt\"))\n",
    "print(readFile(\"data.txt\"))"
   ]
  },
  {
   "cell_type": "code",
   "execution_count": 5,
   "metadata": {},
   "outputs": [
    {
     "data": {
      "text/plain": [
       "5"
      ]
     },
     "execution_count": 5,
     "metadata": {},
     "output_type": "execute_result"
    }
   ],
   "source": [
    "#program to count the number of words\n",
    "\n",
    "def wordCount(filename):\n",
    "    with open(filename, 'r') as f:\n",
    "        if f.mode == 'r':\n",
    "            a = f.read()\n",
    "            li = a.split()\n",
    "    return len(li)\n",
    "\n",
    "wordCount(\"data.txt\")"
   ]
  },
  {
   "cell_type": "code",
   "execution_count": 10,
   "metadata": {},
   "outputs": [
    {
     "name": "stdout",
     "output_type": "stream",
     "text": [
      "hello , how are you doing ? oh hello to you too good sir\n",
      "['hello', ',', 'how', 'are', 'you', 'doing', '?', 'oh', 'hello', 'to', 'you', 'too', 'good', 'sir']\n"
     ]
    },
    {
     "data": {
      "text/plain": [
       "2"
      ]
     },
     "execution_count": 10,
     "metadata": {},
     "output_type": "execute_result"
    }
   ],
   "source": [
    "#Program to count number of a specific word\n",
    "\n",
    "def createFile(filename):\n",
    "    with open(filename, 'w') as f:\n",
    "        f.write(input())\n",
    "\n",
    "def wordCount(filename, word):\n",
    "    with open(filename, 'r') as f:\n",
    "        li = f.read().split()\n",
    "    print(li)\n",
    "    return li.count(word)\n",
    "\n",
    "createFile(\"newTestFile.txt\")\n",
    "wordCount(\"newTestFile.txt\", \"hello\")"
   ]
  },
  {
   "cell_type": "code",
   "execution_count": null,
   "metadata": {},
   "outputs": [],
   "source": []
  },
  {
   "cell_type": "code",
   "execution_count": null,
   "metadata": {},
   "outputs": [],
   "source": []
  }
 ],
 "metadata": {
  "kernelspec": {
   "display_name": "Python 3",
   "language": "python",
   "name": "python3"
  },
  "language_info": {
   "codemirror_mode": {
    "name": "ipython",
    "version": 3
   },
   "file_extension": ".py",
   "mimetype": "text/x-python",
   "name": "python",
   "nbconvert_exporter": "python",
   "pygments_lexer": "ipython3",
   "version": "3.7.3"
  }
 },
 "nbformat": 4,
 "nbformat_minor": 2
}
