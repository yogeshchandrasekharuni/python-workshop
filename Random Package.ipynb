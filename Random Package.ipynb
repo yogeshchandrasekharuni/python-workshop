{
 "cells": [
  {
   "cell_type": "markdown",
   "metadata": {},
   "source": [
    "## Packages"
   ]
  },
  {
   "cell_type": "code",
   "execution_count": 6,
   "metadata": {},
   "outputs": [
    {
     "name": "stdout",
     "output_type": "stream",
     "text": [
      "45 91 7 14 66 43 83 3 41 44 "
     ]
    }
   ],
   "source": [
    "import random\n",
    "\n",
    "def generateRandom(n, lb, ub):\n",
    "    for i in range(n):\n",
    "        print(random.randint(lb, ub), end=' ')\n",
    "\n",
    "generateRandom(10,0,100)"
   ]
  },
  {
   "cell_type": "code",
   "execution_count": 7,
   "metadata": {},
   "outputs": [
    {
     "name": "stdout",
     "output_type": "stream",
     "text": [
      "4241\n"
     ]
    }
   ],
   "source": [
    "def generateRandom():\n",
    "    return random.randint(1000,9999)\n",
    "\n",
    "print(generateRandom())"
   ]
  },
  {
   "cell_type": "code",
   "execution_count": 16,
   "metadata": {},
   "outputs": [
    {
     "name": "stdout",
     "output_type": "stream",
     "text": [
      "[7, 7, 6, 4, 9, 9, 10, 2, 5, 3, 10, 9, 4, 2, 6, 3, 9, 7, 1, 6]\n",
      "Congrats\n"
     ]
    }
   ],
   "source": [
    "def generateNumbers(n, lb, ub):\n",
    "    li = []\n",
    "    for i in range(n):\n",
    "        li.append(random.randint(lb, ub))\n",
    "    return li\n",
    "\n",
    "def checkNumber(num):\n",
    "    li = generateNumbers(20, 1, 10)\n",
    "    print(li)\n",
    "    if num in li:\n",
    "        print(\"Congrats\")\n",
    "    else:\n",
    "        print(\"kys\")\n",
    "        \n",
    "checkNumber(5)\n",
    "        "
   ]
  }
 ],
 "metadata": {
  "kernelspec": {
   "display_name": "Python 3",
   "language": "python",
   "name": "python3"
  },
  "language_info": {
   "codemirror_mode": {
    "name": "ipython",
    "version": 3
   },
   "file_extension": ".py",
   "mimetype": "text/x-python",
   "name": "python",
   "nbconvert_exporter": "python",
   "pygments_lexer": "ipython3",
   "version": "3.7.3"
  }
 },
 "nbformat": 4,
 "nbformat_minor": 2
}
