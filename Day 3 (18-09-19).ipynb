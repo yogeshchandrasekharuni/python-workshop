{
 "cells": [
  {
   "cell_type": "markdown",
   "metadata": {},
   "source": [
    "## Programming in Strings\n",
    "\n",
    "- "
   ]
  },
  {
   "cell_type": "code",
   "execution_count": 1,
   "metadata": {},
   "outputs": [
    {
     "name": "stdout",
     "output_type": "stream",
     "text": [
      "python\t<class 'str'>\n",
      "programming\n"
     ]
    }
   ],
   "source": [
    "s1 =\"python\"\n",
    "s2 ='programming'\n",
    "print(s1,end= \"\\t\")\n",
    "print(type(s1))\n",
    "print(s2)"
   ]
  },
  {
   "cell_type": "markdown",
   "metadata": {},
   "source": [
    "## string slicing\n"
   ]
  },
  {
   "cell_type": "code",
   "execution_count": 2,
   "metadata": {},
   "outputs": [
    {
     "name": "stdout",
     "output_type": "stream",
     "text": [
      "p\n",
      "y\n",
      "6\n",
      "n\n",
      "n\n"
     ]
    }
   ],
   "source": [
    "s1 ='python'\n",
    "print(s1[0]) # Accesing first character in a string\n",
    "print(s1[1]) # Accesing second character in a string\n",
    "print(len(s1)) # length of a string\n",
    "print(s1[len(s1)-1]) # Access the last charcter of a string using forward direction\n",
    "print(s1[-1]) # Access last character of a string using backward direction "
   ]
  },
  {
   "cell_type": "code",
   "execution_count": 32,
   "metadata": {},
   "outputs": [
    {
     "name": "stdout",
     "output_type": "stream",
     "text": [
      "py\n",
      "on\n",
      "hon\n",
      "tho\n",
      "ytho\n"
     ]
    }
   ],
   "source": [
    "print(s1[0:2]) # Accessing the first two characters \n",
    "print(s1[-2:]) # accessing the last two characters\n",
    "print(s1[3:])  # Accessing the charcter from 3 till last\n",
    "print(s1[2:5]) # Access the characters from 2 to 5\n",
    "print(s1[1:-1]) # Access the characters except first and last "
   ]
  },
  {
   "cell_type": "code",
   "execution_count": 53,
   "metadata": {},
   "outputs": [
    {
     "name": "stdout",
     "output_type": "stream",
     "text": [
      "nohtyp\n"
     ]
    }
   ],
   "source": [
    "# to print string in reverse order\n",
    "print(s1[-1::-1]) "
   ]
  },
  {
   "cell_type": "code",
   "execution_count": 3,
   "metadata": {},
   "outputs": [
    {
     "name": "stdout",
     "output_type": "stream",
     "text": [
      "pto\n",
      "ph\n"
     ]
    }
   ],
   "source": [
    "# Access the string in alternate\n",
    "print(s1[::2]) # alternates by 2 steps\n",
    "print(s1[::3]) # Alternates by 3 steps"
   ]
  },
  {
   "cell_type": "code",
   "execution_count": 36,
   "metadata": {},
   "outputs": [
    {
     "name": "stdout",
     "output_type": "stream",
     "text": [
      "nhy\n"
     ]
    }
   ],
   "source": [
    "# Access the alternate characters from revesre direction\n",
    "print(s1[::-2])"
   ]
  },
  {
   "cell_type": "markdown",
   "metadata": {},
   "source": [
    "## Functions with string operations\n"
   ]
  },
  {
   "cell_type": "code",
   "execution_count": 55,
   "metadata": {},
   "outputs": [
    {
     "name": "stdout",
     "output_type": "stream",
     "text": [
      "nohtyp\n"
     ]
    }
   ],
   "source": [
    "# Reversal of a string\n",
    "def strReverse(n):\n",
    "    print(n[-1::-1])\n",
    "strReverse(\"python\")"
   ]
  },
  {
   "cell_type": "code",
   "execution_count": 64,
   "metadata": {},
   "outputs": [
    {
     "name": "stdout",
     "output_type": "stream",
     "text": [
      "enter string\n",
      "aa\n",
      "palindrome\n"
     ]
    }
   ],
   "source": [
    "# To check if string is palindrome or not\n",
    "def isPalindrome(s):\n",
    "    if s==s[-1::-1]:\n",
    "        return \"palindrome\"\n",
    "    return \"not palindrome\"\n",
    "print(isPalindrome(input(\"enter string\\n\")))"
   ]
  },
  {
   "cell_type": "code",
   "execution_count": 66,
   "metadata": {},
   "outputs": [
    {
     "name": "stdout",
     "output_type": "stream",
     "text": [
      "P T "
     ]
    }
   ],
   "source": [
    "# Function to print the upper case characters\n",
    "# example : PyThon -- P T\n",
    "\n",
    "# ASCII values\n",
    "# A - Z :65 -90\n",
    "# a - z :97 -122\n",
    "# 0 - 9 :48-57\n",
    "# space :32\n",
    "\n",
    "def printUpper(s):\n",
    "    for i in range(len(s)):\n",
    "        if ord(s[i]) >=65 and ord(s[i]) <=90:\n",
    "            print(s[i],end=\" \")\n",
    "printUpper(\"PyThon\")\n",
    "            "
   ]
  },
  {
   "cell_type": "code",
   "execution_count": 67,
   "metadata": {},
   "outputs": [
    {
     "data": {
      "text/plain": [
       "97"
      ]
     },
     "execution_count": 67,
     "metadata": {},
     "output_type": "execute_result"
    }
   ],
   "source": [
    "ord(\"a\") # ord() function gives the output as number which is equal to ASCII value"
   ]
  },
  {
   "cell_type": "code",
   "execution_count": 76,
   "metadata": {},
   "outputs": [
    {
     "name": "stdout",
     "output_type": "stream",
     "text": [
      "enter a string\n",
      "aa\n",
      "not same count\n"
     ]
    }
   ],
   "source": [
    "# Function to retun the output as 'samecount'\n",
    "# samecount -- lower and upper case has same count\n",
    "\n",
    "def sameCount(s):\n",
    "    uppercount=0\n",
    "    lowercount=0\n",
    "    for i in range(len(s)):\n",
    "        if ord(s[i]) >=65 and ord(s[i]) <=90:\n",
    "            uppercount=uppercount+1\n",
    "        if ord(s[i]) >=97 and ord(s[i]) <=122:\n",
    "            lowercount=lowercount+1\n",
    "    if uppercount == lowercount:\n",
    "        print(\"samecount\")\n",
    "    else:\n",
    "        print(\"not same count\")\n",
    "sameCount(input(\"enter a string\\n\"))\n",
    "            "
   ]
  },
  {
   "cell_type": "code",
   "execution_count": 2,
   "metadata": {},
   "outputs": [
    {
     "name": "stdout",
     "output_type": "stream",
     "text": [
      "enter a string\n",
      "fegeve45asd89\n",
      "4 5 8 9 "
     ]
    }
   ],
   "source": [
    "# Function to extract digits from the string\n",
    "# Input : applic18tion\n",
    "# Output : 1 8\n",
    "\n",
    "def extractDigits(s):\n",
    "    for i in range(len(s)):\n",
    "        if ord(s[i]) >=48 and ord(s[i]) <=57:\n",
    "            print(s[i],end=\" \")\n",
    "extractDigits(input('enter a string\\n'))"
   ]
  },
  {
   "cell_type": "code",
   "execution_count": 8,
   "metadata": {},
   "outputs": [
    {
     "name": "stdout",
     "output_type": "stream",
     "text": [
      "enter a string\n",
      "vdc45r7\n",
      "16\n"
     ]
    }
   ],
   "source": [
    "# Function to add digits of a string\n",
    " \n",
    "def extractDigits(s):\n",
    "    sum=0\n",
    "    for i in range(len(s)):\n",
    "        if ord(s[i]) >=48 and ord(s[i]) <=57:\n",
    "            sum=sum+int(s[i])\n",
    "    print(sum)\n",
    "extractDigits(input(\"enter a string\\n\"))"
   ]
  },
  {
   "cell_type": "code",
   "execution_count": 6,
   "metadata": {},
   "outputs": [
    {
     "name": "stdout",
     "output_type": "stream",
     "text": [
      "enter a string \n",
      "python is pro\n",
      "I S "
     ]
    }
   ],
   "source": [
    "# function to print 2nd word in upper case\n",
    "# input : Python Made Easy\n",
    "# output :MADE\n",
    "\n",
    "def upperCase(s):\n",
    "    spacecount=0\n",
    "    for i in range(len(s)):\n",
    "        if ord(s[i])==32:\n",
    "            spacecount +=1\n",
    "        if spacecount ==1:\n",
    "            if ord(s[i]) >=65 and ord(s[i]) <=90:\n",
    "                print(s[i])\n",
    "            elif ord(s[i]) >=97 and ord(s[i]) <=122:\n",
    "                print(chr(ord(s[i])-32),end=\" \")\n",
    "        if spacecount == 2:\n",
    "            break\n",
    "upperCase(input(\"enter a string \\n\"))"
   ]
  },
  {
   "cell_type": "markdown",
   "metadata": {},
   "source": [
    "### Lists\n",
    "- One of the data structure in python\n",
    "- Data structure means store , sort and search options\n",
    "- It's one common data structure in python , the items of the list separate by comma and enclosed in square brackets []\n",
    "- exampe \n",
    "   - list1-[1,2,3,4]\n",
    "   - list2-[\"gitam\",1,2,3,\"a\",2.4]"
   ]
  },
  {
   "cell_type": "code",
   "execution_count": 15,
   "metadata": {},
   "outputs": [
    {
     "name": "stdout",
     "output_type": "stream",
     "text": [
      "[1, 8, 16, 9, 2]\n",
      "1\n",
      "8\n",
      "2\n",
      "9\n",
      "[16, 9, 2]\n",
      "[1, 8]\n"
     ]
    }
   ],
   "source": [
    "li = [1,8,16,9,2]\n",
    "print(li)      # prints all the elements in the list\n",
    "print(li[0])   # prints first element in the list\n",
    "print(li[1])   # prints second element in the list\n",
    "print(li[-1])  # prints last elemnt of the list\n",
    "print(li[-2])  # prints last second element of the list\n",
    "print(li[2:])  # prints elements from 3rd to last\n",
    "print(li[:2])"
   ]
  },
  {
   "cell_type": "code",
   "execution_count": 23,
   "metadata": {},
   "outputs": [
    {
     "name": "stdout",
     "output_type": "stream",
     "text": [
      "['gitam', 34, 56, 12, 'asd']\n",
      "['gitam', 10, 56, 12, 'asd']\n"
     ]
    }
   ],
   "source": [
    " li =[\"gitam\",34,56,12,\"asd\"]\n",
    "print(li)\n",
    "# update the list item sing index|\n",
    "li[1]=10\n",
    "print(li)"
   ]
  },
  {
   "cell_type": "code",
   "execution_count": 24,
   "metadata": {},
   "outputs": [
    {
     "name": "stdout",
     "output_type": "stream",
     "text": [
      "['gitam', 10, 56, 'asd']\n",
      "<class 'list'>\n"
     ]
    }
   ],
   "source": [
    "# delete an item from the list\n",
    "del li[3]\n",
    "print(li)\n",
    "print(type(li))"
   ]
  },
  {
   "cell_type": "code",
   "execution_count": 27,
   "metadata": {},
   "outputs": [
    {
     "name": "stdout",
     "output_type": "stream",
     "text": [
      "5\n",
      "[1, 2, 3, 4, 5, 1, 2, 3, 4, 5]\n",
      "True\n",
      "False\n",
      "1 2 3 4 5 \n",
      "1 2 3 4 5 "
     ]
    }
   ],
   "source": [
    "# Basic List Operations\n",
    "li=[1,2,3,4,5]\n",
    "# Length of the list\n",
    "print(len(li))\n",
    "# List Repition\n",
    "print(li * 2)\n",
    "# To know certain element is present in the list or not\n",
    "print(4 in li)\n",
    "print(10 in li)\n",
    "# Access the list items from the iterations\n",
    "# 1 way to define\n",
    "for i in range(len(li)):\n",
    "    print(li[i],end=\" \")\n",
    "print()\n",
    "# 2 way to print the list items\n",
    "for i in li:\n",
    "    print(i,end=\" \")\n",
    "    "
   ]
  },
  {
   "cell_type": "code",
   "execution_count": 32,
   "metadata": {},
   "outputs": [
    {
     "name": "stdout",
     "output_type": "stream",
     "text": [
      "9.5\n",
      "1\n",
      "24.5\n",
      "4.0\n"
     ]
    }
   ],
   "source": [
    "# Basic list functions\n",
    "li =[1,2,3,4,5,9.5]\n",
    "print(max(li))  # prints max number in the list ## only works for similar datatypes in the list\n",
    "print(min(li))  # prints min number in the list\n",
    "print(sum(li))  # prints sum of numbers in the list\n",
    "print(sum(li)//len(li)) # prints average of elements inn the list"
   ]
  },
  {
   "cell_type": "code",
   "execution_count": 23,
   "metadata": {},
   "outputs": [
    {
     "name": "stdout",
     "output_type": "stream",
     "text": [
      "[1, 9, 56, 16, 25, 5, 29, 9]\n",
      "2\n"
     ]
    }
   ],
   "source": [
    "# Methods of list\n",
    "li=[1,9,16,25,5]\n",
    "\n",
    "li.append(29)    # Adds an element at the end of the list\n",
    "li.insert(2,56)  # Adds an element at the particular index\n",
    "li.append(9)\n",
    "print(li)\n",
    "print(li.count(9))    # Counts the number of repetions"
   ]
  },
  {
   "cell_type": "code",
   "execution_count": 15,
   "metadata": {},
   "outputs": [
    {
     "name": "stdout",
     "output_type": "stream",
     "text": [
      "[1, 4, 8]\n"
     ]
    }
   ],
   "source": [
    "# Methods of list objects\n",
    "li=[4,8,1,9,3]\n",
    "li.sort()  # Sorts the list in the ascending order\n",
    "li.pop()   # Last index value is popped out\n",
    "li.pop(1)  # Removes the item in the specified index value\n",
    "print(li)"
   ]
  },
  {
   "cell_type": "code",
   "execution_count": 20,
   "metadata": {},
   "outputs": [
    {
     "name": "stdout",
     "output_type": "stream",
     "text": [
      "45\n",
      "19\n"
     ]
    }
   ],
   "source": [
    "# Function to return the largest number from the list\n",
    "def largeNumber(li):\n",
    "    li.sort()\n",
    "    return li[-1]\n",
    "\n",
    "def genericLarge(li,n):\n",
    "    li.sort()\n",
    "    return li[-n]\n",
    "\n",
    "li =[19,1,25,6,9,45,22]\n",
    "print(largeNumber(li))\n",
    "print(genericLarge(li,4))"
   ]
  },
  {
   "cell_type": "markdown",
   "metadata": {},
   "source": [
    "## File Handling in Python\n"
   ]
  },
  {
   "cell_type": "markdown",
   "metadata": {},
   "source": [
    "- File document which contains some informationn and resides on permanent devices\n",
    "- Different types of file -- .txt  .pdf  .doc  .ppf and etc\n",
    "- Input - keyboard\n",
    "- output - file system"
   ]
  },
  {
   "cell_type": "code",
   "execution_count": 43,
   "metadata": {},
   "outputs": [
    {
     "name": "stdout",
     "output_type": "stream",
     "text": [
      "file is succesfully created\n"
     ]
    }
   ],
   "source": [
    "# Function to create file and write some data of the file\n",
    "# Mode -- w (It creates the file and writes the data\n",
    "#           If the file already exists it renames and rewrites the data)\n",
    "def createFile(filename):\n",
    "    f= open(filename,'w')\n",
    "    for i in range(10):\n",
    "        f.write(\"this is %d line\\n\" %i)\n",
    "    print(\"file is succesfully created\")\n",
    "    return\n",
    "\n",
    "createFile(\"data.txt\")\n",
    "\n"
   ]
  },
  {
   "cell_type": "code",
   "execution_count": 45,
   "metadata": {},
   "outputs": [
    {
     "name": "stdout",
     "output_type": "stream",
     "text": [
      "program completed succesfully\n"
     ]
    }
   ],
   "source": [
    "# Mode -- a(If the file is not avaliable it creates the file)\n",
    "#      -- If the file is alreday present with same name it appends the data at the end of the line \n",
    "\n",
    "def appendMode(filename):\n",
    "    f=open(filename,\"a\")\n",
    "    f.write(\"gitam\\n\")\n",
    "    f.write(\"python\")\n",
    "    print(\"program completed succesfully\")\n",
    "    return\n",
    "appendMode(\"data.txt\")"
   ]
  },
  {
   "cell_type": "code",
   "execution_count": 50,
   "metadata": {},
   "outputs": [
    {
     "name": "stdout",
     "output_type": "stream",
     "text": [
      "this is 0 line\n",
      "this is 1 line\n",
      "this is 2 line\n",
      "this is 3 line\n",
      "this is 4 line\n",
      "this is 5 line\n",
      "this is 6 line\n",
      "this is 7 line\n",
      "this is 8 line\n",
      "this is 9 line\n",
      "gitam\n",
      "python\n"
     ]
    }
   ],
   "source": [
    "# Function to read the file\n",
    "# Mode -- r(It reads the information and prints the data\n",
    "#           If file does not exist it shows an error)\n",
    "\n",
    "def readFile(filename):\n",
    "    f = open(filename,'r')            # with open(filename,\"r\") as f:  (idimatic programming)\n",
    "    if f.mode == 'r':\n",
    "        a=f.read()\n",
    "        print(a)\n",
    "    f.close()\n",
    "    return\n",
    "\n",
    "readFile(\"data.txt\")"
   ]
  },
  {
   "cell_type": "code",
   "execution_count": 51,
   "metadata": {},
   "outputs": [
    {
     "data": {
      "text/plain": [
       "42"
      ]
     },
     "execution_count": 51,
     "metadata": {},
     "output_type": "execute_result"
    }
   ],
   "source": [
    "# Word count in a file\n",
    "\n",
    "def wordCount(filename):\n",
    "    with open(filename,\"r\") as f:\n",
    "        if f.mode == \"r\":\n",
    "            a=f.read()\n",
    "            li=a.split()\n",
    "    return len(li)\n",
    "wordCount(\"data.txt\")"
   ]
  },
  {
   "cell_type": "code",
   "execution_count": 64,
   "metadata": {},
   "outputs": [
    {
     "name": "stdout",
     "output_type": "stream",
     "text": [
      "['hello', 'world']\n"
     ]
    }
   ],
   "source": [
    "# split() function is used to divide the words using white space\n",
    "\n",
    "li= \"hello world\"\n",
    "print(li.split())"
   ]
  },
  {
   "cell_type": "code",
   "execution_count": 5,
   "metadata": {},
   "outputs": [
    {
     "data": {
      "text/plain": [
       "10"
      ]
     },
     "execution_count": 5,
     "metadata": {},
     "output_type": "execute_result"
    }
   ],
   "source": [
    "# Specifi word count from the file\n",
    "\n",
    "def wordcount(filename,b):\n",
    "    with open(filename,\"r\") as f:\n",
    "        if f.mode ==\"r\":\n",
    "            a=f.read()\n",
    "            li=a.split()\n",
    "        return li.count(b)\n",
    "\n",
    "wordcount(\"data.txt\",\"this\")"
   ]
  },
  {
   "cell_type": "code",
   "execution_count": 11,
   "metadata": {},
   "outputs": [
    {
     "data": {
      "text/plain": [
       "162"
      ]
     },
     "execution_count": 11,
     "metadata": {},
     "output_type": "execute_result"
    }
   ],
   "source": [
    "# Function to find the charcater count from the input file\n",
    "\n",
    "def charCount(filename):\n",
    "    with open(filename,\"r\") as f:\n",
    "        if f.mode == \"r\":\n",
    "            a = f.read()\n",
    "            li =list(a)\n",
    "    return len(li)\n",
    "\n",
    "charCount(\"data.txt\")"
   ]
  },
  {
   "cell_type": "code",
   "execution_count": 14,
   "metadata": {},
   "outputs": [
    {
     "name": "stdout",
     "output_type": "stream",
     "text": [
      "['p', 'y', 't', 'h', 'o', 'n', 'p', 'r', 'o', 'g', 'r', 'a', 'm', 'm', 'i', 'n', 'g']\n"
     ]
    }
   ],
   "source": [
    "s= \"pythonprogramming\"\n",
    "li=list(s)    # Converts the input stroing into sequence of characters \n",
    "print(li)"
   ]
  },
  {
   "cell_type": "code",
   "execution_count": 15,
   "metadata": {},
   "outputs": [
    {
     "data": {
      "text/plain": [
       "12"
      ]
     },
     "execution_count": 15,
     "metadata": {},
     "output_type": "execute_result"
    }
   ],
   "source": [
    "# Find no of lines or rows in a file\n",
    "\n",
    "def findLineCount(filename):\n",
    "    with open(filename,\"r\") as f:\n",
    "        if f.mode == \"r\":\n",
    "            a = f.read()\n",
    "            li =a.split(\"\\n\")\n",
    "    return len(li)\n",
    "\n",
    "findLineCount(\"data.txt\")"
   ]
  },
  {
   "cell_type": "code",
   "execution_count": 17,
   "metadata": {},
   "outputs": [
    {
     "data": {
      "text/plain": [
       "'upper case : 0  lower case : 111  digit count : 10'"
      ]
     },
     "execution_count": 17,
     "metadata": {},
     "output_type": "execute_result"
    }
   ],
   "source": [
    "# Find the uppercase and lowercase characters in a file\n",
    "\n",
    "def caseCount(filename):\n",
    "    lowercase=0\n",
    "    uppercase=0\n",
    "    digitcount=0\n",
    "    with open(filename,\"r\") as f:\n",
    "        if f.mode == \"r\":\n",
    "            a = f.read()\n",
    "            li=list(a)\n",
    "    for i in range(len(li)):\n",
    "        if ord(li[i]) >=65 and ord(li[i]) <=90:\n",
    "            uppercase +=1\n",
    "        elif ord(li[i]) >=97 and ord(li[i]) <=122:\n",
    "            lowercase +=1\n",
    "        elif ord(li[i]) >=48 and ord(li[i]) <=57:\n",
    "            digitcount +=1\n",
    "    output = \"upper case : {0}  lower case : {1}  digit count : {2}\".format(uppercase,lowercase,digitcount)\n",
    "    return output\n",
    "\n",
    "caseCount(\"data.txt\")"
   ]
  },
  {
   "cell_type": "code",
   "execution_count": 19,
   "metadata": {},
   "outputs": [
    {
     "name": "stdout",
     "output_type": "stream",
     "text": [
      "[2, 33, 222, 14]\n"
     ]
    }
   ],
   "source": [
    "li=[2, 33, 222, 14, 25]\n",
    "print(li[:-1])"
   ]
  },
  {
   "cell_type": "code",
   "execution_count": null,
   "metadata": {},
   "outputs": [],
   "source": []
  }
 ],
 "metadata": {
  "kernelspec": {
   "display_name": "Python 3",
   "language": "python",
   "name": "python3"
  },
  "language_info": {
   "codemirror_mode": {
    "name": "ipython",
    "version": 3
   },
   "file_extension": ".py",
   "mimetype": "text/x-python",
   "name": "python",
   "nbconvert_exporter": "python",
   "pygments_lexer": "ipython3",
   "version": "3.7.3"
  }
 },
 "nbformat": 4,
 "nbformat_minor": 2
}
