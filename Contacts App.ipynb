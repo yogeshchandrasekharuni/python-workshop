{
 "cells": [
  {
   "cell_type": "markdown",
   "metadata": {},
   "source": [
    "#Data Structures\n",
    "- List\n",
    "- Tuples\n",
    "- Dictionaries\n"
   ]
  },
  {
   "cell_type": "code",
   "execution_count": 17,
   "metadata": {},
   "outputs": [
    {
     "name": "stdout",
     "output_type": "stream",
     "text": [
      "{'Name': 'Yogesh', 'EmailID': 'yogeshchandrasekharuni@gmail.com', 'Address': 'GitamVizag'}\n",
      "Yogesh\n",
      "{'EmailID': 'yogeshchandrasekharuni@gmail.com', 'Address': 'GitamVizag'}\n"
     ]
    }
   ],
   "source": [
    "d1 = {\"Name\":\"Yogesh\", \"EmailID\":\"yogeshchandrasekharuni@gmail.com\", \"Address\":\"GitamVizag\"}\n",
    "print(d1)\n",
    "\n",
    "print(d1[\"Name\"])\n",
    "\n",
    "d1[\"Name\"] = \"Yogi\"\n",
    "\n",
    "del d1[\"Name\"]\n",
    "\n",
    "print(d1)\n"
   ]
  },
  {
   "cell_type": "markdown",
   "metadata": {},
   "source": [
    "##Contacts App"
   ]
  },
  {
   "cell_type": "code",
   "execution_count": 4,
   "metadata": {},
   "outputs": [
    {
     "name": "stdout",
     "output_type": "stream",
     "text": [
      "Contact Saved\n",
      "Contact Saved\n",
      "Contact Saved\n",
      "LOL : 2155512\n",
      "Contact not present\n",
      "{'Yogesh': 1234325, 'yogi': 3231421, 'LOL': '2155512'}\n"
     ]
    }
   ],
   "source": [
    "contacts = {}\n",
    "\n",
    "def addContact(name, number, ):\n",
    "    if name not in contacts:\n",
    "        contacts[name] = number\n",
    "        print(\"Contact Saved\")\n",
    "    else:\n",
    "        print(\"Contact already exists\")\n",
    "        \n",
    "def searchContact(name):\n",
    "    if name in contacts:\n",
    "        print(\"{0} : {1}\".format(name, contacts[name]))\n",
    "    else:\n",
    "        print(\"Contact not present\")\n",
    "    \n",
    "    \n",
    "addContact(\"Yogesh\", 1234325)\n",
    "addContact(\"yogi\", 3231421)\n",
    "addContact(\"LOL\", \"2155512\")\n",
    "\n",
    "searchContact(\"LOL\")\n",
    "searchContact(\"sad boye\")\n",
    "\n",
    "print(contacts)"
   ]
  },
  {
   "cell_type": "code",
   "execution_count": 9,
   "metadata": {},
   "outputs": [
    {
     "name": "stdout",
     "output_type": "stream",
     "text": [
      "{'Yogesh': 1333, 'yogi': 13313, 'LOL': '2155512', ':(': 1283931, ':X': 424325}\n",
      "Contacts added\n",
      "{'Yogesh': 1333, 'yogi': 13313, 'LOL': '2155512', ':(': 1283931, ':X': 424325}\n"
     ]
    }
   ],
   "source": [
    "#Import new contact details\n",
    "#Merge the prev details with new details\n",
    "\n",
    "def importContacts(newContacts):\n",
    "    contacts.update(newContacts)\n",
    "    print(\"Contacts added\")\n",
    "    \n",
    "print(contacts)\n",
    "newContacts = {\"Yogesh\":1333, \":(\": 1283931, \":X\":424325}    \n",
    "importContacts(newContacts)\n",
    "\n",
    "print(contacts)"
   ]
  },
  {
   "cell_type": "code",
   "execution_count": 10,
   "metadata": {},
   "outputs": [
    {
     "name": "stdout",
     "output_type": "stream",
     "text": [
      "Deleted.\n"
     ]
    }
   ],
   "source": [
    "def deleteContact(name):\n",
    "    if name in contacts:\n",
    "        del contacts[name]\n",
    "        print(\"Deleted.\")\n",
    "    else:\n",
    "        print(\"Contact not found\")\n",
    "        \n",
    "deleteContact('yogi')"
   ]
  },
  {
   "cell_type": "code",
   "execution_count": 11,
   "metadata": {},
   "outputs": [
    {
     "name": "stdout",
     "output_type": "stream",
     "text": [
      "Contact does not exist\n",
      "{'Yogesh': 1333, 'LOL': '2155512', ':(': 1283931, ':X': 424325}\n"
     ]
    }
   ],
   "source": [
    "def modifyContact(name, phone):\n",
    "    if name in contacts:\n",
    "        contacts[name] = phone\n",
    "    else:\n",
    "        print(\"Contact does not exist\")\n",
    "        \n",
    "modifyContact(\"yogi\", 13313)\n",
    "print(contacts)"
   ]
  }
 ],
 "metadata": {
  "kernelspec": {
   "display_name": "Python 3",
   "language": "python",
   "name": "python3"
  },
  "language_info": {
   "codemirror_mode": {
    "name": "ipython",
    "version": 3
   },
   "file_extension": ".py",
   "mimetype": "text/x-python",
   "name": "python",
   "nbconvert_exporter": "python",
   "pygments_lexer": "ipython3",
   "version": "3.7.3"
  }
 },
 "nbformat": 4,
 "nbformat_minor": 2
}
