{
 "cells": [
  {
   "cell_type": "markdown",
   "metadata": {},
   "source": [
    "#Programming in python using Strings"
   ]
  },
  {
   "cell_type": "code",
   "execution_count": 13,
   "metadata": {},
   "outputs": [
    {
     "name": "stdout",
     "output_type": "stream",
     "text": [
      "piFui"
     ]
    }
   ],
   "source": [
    "#Read the input as string and Output will followed\n",
    "#Example #1:\n",
    "#Input    : orange \n",
    "#Output : puboif\n",
    "#Reason: Print the next consonent to the vowel and Print the vowel to the next consonent\n",
    "\n",
    "\n",
    "def printAlpha(word):\n",
    "    for i in word:\n",
    "        if typeOfLetter(i) == \"Vowel\":\n",
    "            if ord(i) >= 97 and ord(i) <= 122:\n",
    "                for j in range(ord(i) + 1, 123):\n",
    "                    if typeOfLetter(chr(j)) == \"Consonant\":\n",
    "                        print(chr(j), end='')\n",
    "                        break\n",
    "            elif ord(i) >= 60 and ord(i) <= 90:\n",
    "                for j in range(ord(i)+1, 91):\n",
    "                    if typeOfLetter(chr(j)) == \"Consonant\":\n",
    "                        print(chr(j), end='')\n",
    "                        break\n",
    "        elif typeOfLetter(i) == \"Consonant\":\n",
    "            if ord(i) >= 97 and ord(i) <= 122:\n",
    "                for j in range(ord(i) + 1, 123):\n",
    "                    if typeOfLetter(chr(j)) == \"Vowel\":\n",
    "                        print(chr(j), end='')\n",
    "                        break\n",
    "            elif ord(i) >= 60 and ord(i) <= 90:\n",
    "                for j in range(ord(i)+1, 91):\n",
    "                    if typeOfLetter(chr(j)) == \"Vowel\":\n",
    "                        print(chr(j), end='')\n",
    "                        break\n",
    "                    \n",
    "def typeOfLetter(letter):\n",
    "    if letter == 'a' or letter == 'e' or letter == 'o' or letter == 'i' or letter =='u' or letter == 'A' or letter == 'E' or letter == 'I' or letter == 'O' or letter =='U': \n",
    "        return \"Vowel\"\n",
    "    else: \n",
    "        return \"Consonant\"\n",
    "    \n",
    "printAlpha(\"yogEsh\")\n",
    "                    "
   ]
  },
  {
   "cell_type": "code",
   "execution_count": 16,
   "metadata": {},
   "outputs": [
    {
     "name": "stdout",
     "output_type": "stream",
     "text": [
      "hello this robot "
     ]
    }
   ],
   "source": [
    "#Read the input as string and Output will be alternate words in lower case\n",
    "#Example #1:\n",
    "#Input : Learn Python Programming EASy\n",
    "#Output : python easy\n",
    "\n",
    "def printAlternate(s):\n",
    "    li = s.split()\n",
    "    for i in range(0, len(li), 2):\n",
    "        print(li[i].lower(), end=' ')\n",
    "        \n",
    "printAlternate(\"Hello World This is robot\")"
   ]
  },
  {
   "cell_type": "code",
   "execution_count": 21,
   "metadata": {},
   "outputs": [
    {
     "name": "stdout",
     "output_type": "stream",
     "text": [
      "16\n"
     ]
    }
   ],
   "source": [
    "#Read the input as string and Print the Output as Only even digit sum\n",
    "#Example #1:\n",
    "#Input : Applc18iation89\n",
    "#Output : 16 (8+8)\n",
    "\n",
    "def printEvenSum(s):\n",
    "    sumOfEven = 0\n",
    "    for i in s:\n",
    "        if ord(i) >= 48 and ord(i) <= 57:\n",
    "            if int(i) % 2 == 0:\n",
    "                sumOfEven = sumOfEven + int(i)\n",
    "    return sumOfEven\n",
    "\n",
    "print(printEvenSum(\"Applc18iation89\"))\n",
    "\n",
    "\n"
   ]
  },
  {
   "cell_type": "code",
   "execution_count": 22,
   "metadata": {},
   "outputs": [
    {
     "name": "stdout",
     "output_type": "stream",
     "text": [
      "pYTHONpROGRmminG"
     ]
    }
   ],
   "source": [
    "#Read the string as input and Print the output following the manner\n",
    "#Example #1:\n",
    "#Input: PythonProgrMMINg   \n",
    "#Output: pYTHONpROGRmminG\n",
    "\n",
    "def printReverse(word):\n",
    "    for i in word:\n",
    "        if i.islower():\n",
    "            print(i.upper(), end='')\n",
    "        elif i.isupper():\n",
    "            print(i.lower(), end='')\n",
    "        \n",
    "printReverse(\"PythonProgrMMINg\")"
   ]
  },
  {
   "cell_type": "code",
   "execution_count": 25,
   "metadata": {},
   "outputs": [
    {
     "name": "stdout",
     "output_type": "stream",
     "text": [
      "2\n"
     ]
    }
   ],
   "source": [
    "#Read the string and char as input and Print no of occurance of character in the given string\n",
    "#Example #1;\n",
    "#Input : Application,p\n",
    "#Output : 2\n",
    "\n",
    "def countChar(s, ch):\n",
    "    count = 0\n",
    "    for i in s:\n",
    "        if ch == i:\n",
    "            count += 1\n",
    "    return count\n",
    "\n",
    "print(countChar(\"Application\", 'p'))\n"
   ]
  },
  {
   "cell_type": "code",
   "execution_count": null,
   "metadata": {},
   "outputs": [],
   "source": []
  }
 ],
 "metadata": {
  "kernelspec": {
   "display_name": "Python 3",
   "language": "python",
   "name": "python3"
  },
  "language_info": {
   "codemirror_mode": {
    "name": "ipython",
    "version": 3
   },
   "file_extension": ".py",
   "mimetype": "text/x-python",
   "name": "python",
   "nbconvert_exporter": "python",
   "pygments_lexer": "ipython3",
   "version": "3.7.3"
  }
 },
 "nbformat": 4,
 "nbformat_minor": 2
}
