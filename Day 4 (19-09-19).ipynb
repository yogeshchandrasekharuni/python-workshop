{
 "cells": [
  {
   "cell_type": "markdown",
   "metadata": {},
   "source": [
    "## String Functions\n",
    "- upper() -- will convert string into upper case\n",
    "- lower() -- will convert the string into lower case"
   ]
  },
  {
   "cell_type": "code",
   "execution_count": 3,
   "metadata": {},
   "outputs": [
    {
     "name": "stdout",
     "output_type": "stream",
     "text": [
      "PYTHON\n",
      "python\n"
     ]
    }
   ],
   "source": [
    "s1 =\"python\"\n",
    "print(s1.upper())\n",
    "print(s1.lower())"
   ]
  },
  {
   "cell_type": "markdown",
   "metadata": {},
   "source": [
    "## String Boolean Functions\n",
    "- True or False\n",
    "- islower() -- true if string has all lower characters\n",
    "- isupper() -- true if string has all ipper characters\n",
    "- istitle() -- true if string is title case (first character of every word in a string must be capital then it is i called a s title)\n",
    "- isnumeric() -- if the string is numeric then it is true\n",
    "- isalpha() -- true if string contains only alphabets\n",
    "- isspace() -- true if the string contains only spaces"
   ]
  },
  {
   "cell_type": "code",
   "execution_count": 4,
   "metadata": {},
   "outputs": [
    {
     "name": "stdout",
     "output_type": "stream",
     "text": [
      "False\n",
      "True\n"
     ]
    }
   ],
   "source": [
    "s1=\"python\"\n",
    "print(s1.isupper())\n",
    "print(s1.islower())"
   ]
  },
  {
   "cell_type": "code",
   "execution_count": 6,
   "metadata": {},
   "outputs": [
    {
     "name": "stdout",
     "output_type": "stream",
     "text": [
      "False\n"
     ]
    }
   ],
   "source": [
    "s1=\"Python rogramming\"\n",
    "print(s1.istitle())"
   ]
  },
  {
   "cell_type": "code",
   "execution_count": 11,
   "metadata": {},
   "outputs": [
    {
     "name": "stdout",
     "output_type": "stream",
     "text": [
      "True\n",
      "False\n"
     ]
    }
   ],
   "source": [
    "s1=\"1234\"\n",
    "s2=\"def45\"\n",
    "print(s1.isnumeric())\n",
    "print(s2.isnumeric())"
   ]
  },
  {
   "cell_type": "code",
   "execution_count": 12,
   "metadata": {},
   "outputs": [
    {
     "name": "stdout",
     "output_type": "stream",
     "text": [
      "True\n",
      "False\n"
     ]
    }
   ],
   "source": [
    "s1=\"  \"\n",
    "s2=\"1 2 3 \"\n",
    "print(s1.isspace())\n",
    "print(s2.isspace())"
   ]
  },
  {
   "cell_type": "markdown",
   "metadata": {},
   "source": [
    "## String Methods\n",
    "- split() -- splits the string into a list\n",
    "- replace() -- replaces the charcter with a given character\n",
    "- join() -- concatination of two strings"
   ]
  },
  {
   "cell_type": "code",
   "execution_count": 15,
   "metadata": {},
   "outputs": [
    {
     "name": "stdout",
     "output_type": "stream",
     "text": [
      "p2y2t2h2o2n2 2p2r2o2g2r2a2m2m2i2n2g\n"
     ]
    }
   ],
   "source": [
    "s1=\"python programming\"\n",
    "print(\"2\".join(s1))"
   ]
  },
  {
   "cell_type": "code",
   "execution_count": 19,
   "metadata": {},
   "outputs": [
    {
     "name": "stdout",
     "output_type": "stream",
     "text": [
      "python programming\n"
     ]
    }
   ],
   "source": [
    "# s1=\"python programming\"\n",
    "print(s1.replace(\"2\",\"\"))"
   ]
  },
  {
   "cell_type": "markdown",
   "metadata": {},
   "source": [
    "## String Formatting\n",
    "- Classic version\n",
    "- current version Python"
   ]
  },
  {
   "cell_type": "code",
   "execution_count": 29,
   "metadata": {},
   "outputs": [
    {
     "name": "stdout",
     "output_type": "stream",
     "text": [
      "python  programming \n",
      " 1 2 4 \n"
     ]
    }
   ],
   "source": [
    "# classic version ( C or C++)\n",
    "li=[ \"python\",\" programming\"]\n",
    "print( \"%s %s \" % (li[0],li[1]) )\n",
    "\n",
    "li=[1,2,3,4]\n",
    "print(\" %s %s %s \" %(li[0],li[1],li[3]))"
   ]
  },
  {
   "cell_type": "code",
   "execution_count": 35,
   "metadata": {},
   "outputs": [
    {
     "name": "stdout",
     "output_type": "stream",
     "text": [
      "list item 0 : python\n",
      "list item 1 : programming\n",
      "list item 0 : 1\n",
      "list item 1 : 2\n"
     ]
    }
   ],
   "source": [
    "# .format\n",
    "\n",
    "li=[ \"python\",\"programming\"]\n",
    "print(\"list item 0 : {0}\\nlist item 1 : {1}\".format(li[0],li[1]))\n",
    "\n",
    "li=[1,2,3,4]\n",
    "print(\"list item 0 : {0}\\nlist item 1 : {1}\".format(li[0],li[1]))"
   ]
  },
  {
   "cell_type": "markdown",
   "metadata": {},
   "source": [
    "### Data Structures\n",
    "- List\n",
    "- Tuples\n",
    "- Dictinaries"
   ]
  },
  {
   "cell_type": "markdown",
   "metadata": {},
   "source": [
    "### Dictionariers\n",
    "- It works on cocept of unique data\n",
    "- Key , value is unique identifier a value\n",
    "- Each key is separated from value coclon(:)\n",
    "- Each key and value pair is separated by coma(,)\n",
    "- Dictionaries are enclosed with curly brackets( {} )\n"
   ]
  },
  {
   "cell_type": "code",
   "execution_count": 65,
   "metadata": {},
   "outputs": [
    {
     "name": "stdout",
     "output_type": "stream",
     "text": [
      "{'Name': 'gitam', 'EmailId': 'qwerrrfc.com', 'Address': 'vizag'}\n",
      "gitam\n",
      "university\n"
     ]
    }
   ],
   "source": [
    "d1 = {\"Name\":\"gitam\", \"EmailId\":\"qwerrrfc.com\",\"Address\":\"vizag\"}\n",
    "print(d1)\n",
    "\n",
    "print(d1[\"Name\"])      # Accessing the specific key value\n",
    "\n",
    "d1[\"Name\"]=\"university\"   # Update the existing key value\n",
    "print(d1[\"Name\"])"
   ]
  },
  {
   "cell_type": "code",
   "execution_count": 47,
   "metadata": {},
   "outputs": [
    {
     "data": {
      "text/plain": [
       "dict_values(['university', 'qwerrrfc.com', 'vizag'])"
      ]
     },
     "execution_count": 47,
     "metadata": {},
     "output_type": "execute_result"
    }
   ],
   "source": [
    "d1.keys()    # All the keys of dict object"
   ]
  },
  {
   "cell_type": "code",
   "execution_count": 48,
   "metadata": {},
   "outputs": [
    {
     "data": {
      "text/plain": [
       "dict_values(['university', 'qwerrrfc.com', 'vizag'])"
      ]
     },
     "execution_count": 48,
     "metadata": {},
     "output_type": "execute_result"
    }
   ],
   "source": [
    "d1.values()  # All the values of dict objects"
   ]
  },
  {
   "cell_type": "code",
   "execution_count": 59,
   "metadata": {},
   "outputs": [
    {
     "ename": "NameError",
     "evalue": "name 'd1' is not defined",
     "output_type": "error",
     "traceback": [
      "\u001b[1;31m---------------------------------------------------------------------------\u001b[0m",
      "\u001b[1;31mNameError\u001b[0m                                 Traceback (most recent call last)",
      "\u001b[1;32m<ipython-input-59-dd841eaa784e>\u001b[0m in \u001b[0;36m<module>\u001b[1;34m\u001b[0m\n\u001b[1;32m----> 1\u001b[1;33m \u001b[1;32mdel\u001b[0m \u001b[0md1\u001b[0m\u001b[1;33m[\u001b[0m\u001b[1;34m\"EmailId\"\u001b[0m\u001b[1;33m]\u001b[0m  \u001b[1;31m# ONly deletes specific key and value\u001b[0m\u001b[1;33m\u001b[0m\u001b[1;33m\u001b[0m\u001b[0m\n\u001b[0m\u001b[0;32m      2\u001b[0m \u001b[0mprint\u001b[0m\u001b[1;33m(\u001b[0m\u001b[0md1\u001b[0m\u001b[1;33m)\u001b[0m\u001b[1;33m\u001b[0m\u001b[1;33m\u001b[0m\u001b[0m\n",
      "\u001b[1;31mNameError\u001b[0m: name 'd1' is not defined"
     ]
    }
   ],
   "source": [
    "del d1[\"EmailId\"]  # ONly deletes specific key and value\n",
    "print(d1)"
   ]
  },
  {
   "cell_type": "code",
   "execution_count": 66,
   "metadata": {},
   "outputs": [],
   "source": [
    "del d1  # Deletes th eentire dictionary"
   ]
  },
  {
   "cell_type": "markdown",
   "metadata": {},
   "source": [
    "### Contact Application\n",
    "- Add a conatact details\n",
    "- Search contact details\n",
    "- List all the conatcts (Merge/Import)\n",
    "    -  Name 1 : Value\n",
    "    -  Name 2 : Value\n",
    "- Modify or update the contact details\n",
    "- Delete contacts"
   ]
  },
  {
   "cell_type": "code",
   "execution_count": 85,
   "metadata": {},
   "outputs": [
    {
     "name": "stdout",
     "output_type": "stream",
     "text": [
      "Conatct details are added succesfully\n",
      "Conatct details are added succesfully\n",
      "conatct already exists\n",
      "{'jk': '12334556644', 'abc': '1234567890'}\n"
     ]
    }
   ],
   "source": [
    "contacts = {}  # Empty dictionary object\n",
    "# Lets's create a conatact\n",
    " \n",
    "def createContact(name,phone):\n",
    "    if name not in contacts:   #Cond to check if name already exists\n",
    "        contacts[name]=phone\n",
    "        print(\"Conatct details are added succesfully\")\n",
    "    else:\n",
    "        print(\"conatct already exists\")\n",
    "\n",
    "createContact(\"jk\",\"12334556644\")\n",
    "createContact(\"abc\",\"1234567890\")\n",
    "createContact(\"jk\",\"12334556644\")\n",
    "\n",
    "print(contacts)"
   ]
  },
  {
   "cell_type": "code",
   "execution_count": 86,
   "metadata": {},
   "outputs": [
    {
     "name": "stdout",
     "output_type": "stream",
     "text": [
      " gitam not found\n",
      "abc  :  1234567890\n"
     ]
    }
   ],
   "source": [
    "def searchContact(name):\n",
    "    if name in contacts:\n",
    "        print(name ,\" : \",contacts[name])\n",
    "    else:\n",
    "        print(\" %s not found\" % name)\n",
    "    \n",
    "searchContact(\"gitam\")\n",
    "searchContact(\"abc\")"
   ]
  },
  {
   "cell_type": "code",
   "execution_count": 91,
   "metadata": {},
   "outputs": [
    {
     "name": "stdout",
     "output_type": "stream",
     "text": [
      "2  conatcts are added\n",
      "{'jk': '12334556644', 'abc': '1234567890', 'A': '1234567', 'B': '098765'}\n"
     ]
    }
   ],
   "source": [
    "# Import new contact details\n",
    "# Merge the previous details woth new detail\n",
    "def importContacts(newContacts):\n",
    "    contacts.update(newContacts)\n",
    "    print(len(newContacts.keys()),\" conatcts are added\")\n",
    "    \n",
    "newContacts={\"A\":\"1234567\" , \"B\":\"098765\"}\n",
    "importContacts(newContacts)\n",
    "\n",
    "print(contacts)"
   ]
  },
  {
   "cell_type": "code",
   "execution_count": 2,
   "metadata": {},
   "outputs": [
    {
     "name": "stdout",
     "output_type": "stream",
     "text": [
      "abc updated successfully\n",
      "name does not exists\n",
      "{'jk': '12334556644', 'abc': 1111, 'A': '1234567', 'B': '098765'}\n"
     ]
    }
   ],
   "source": [
    "contacts={'jk': '12334556644', 'abc': '1234567890', 'A': '1234567', 'B': '098765'}\n",
    "\n",
    "def modifyContacts(name,phone):\n",
    "    if name in contacts:\n",
    "        contacts[name]=phone\n",
    "        print(name,\"updated successfully\")\n",
    "    else :\n",
    "        print(name,\"does not exists\")\n",
    "        \n",
    "modifyContacts(\"abc\",1111)\n",
    "modifyContacts(\"name\",123)\n",
    "print(contacts)"
   ]
  },
  {
   "cell_type": "code",
   "execution_count": 8,
   "metadata": {
    "scrolled": true
   },
   "outputs": [
    {
     "name": "stdout",
     "output_type": "stream",
     "text": [
      "B deleted successfully\n",
      "b not present\n",
      "{'jk': '12334556644', 'abc': 1111, 'A': '1234567'}\n"
     ]
    }
   ],
   "source": [
    "contacts={'jk': '12334556644', 'abc': 1111, 'A': '1234567', 'B': '098765'}\n",
    "\n",
    "def deleteContacts(name):\n",
    "    if name in contacts:\n",
    "        del contacts[name]\n",
    "        print(name,\"deleted successfully\")\n",
    "    else:\n",
    "        print(name,\"not present\")\n",
    "\n",
    "deleteContacts('B')\n",
    "deleteContacts(\"b\")\n",
    "print(contacts)"
   ]
  },
  {
   "cell_type": "markdown",
   "metadata": {},
   "source": [
    "### Tuples\n",
    "- Tuples enclosed with paranthesis\n",
    "\n",
    "### Difference between Tuples and List\n",
    "- Lists are mutable -- can be changed / modified\n",
    "    - Read and write data\n",
    "- Tuples are immutable -- cant't be changed modified\n",
    "    - Read data only"
   ]
  },
  {
   "cell_type": "code",
   "execution_count": 9,
   "metadata": {},
   "outputs": [
    {
     "name": "stdout",
     "output_type": "stream",
     "text": [
      "(1, 2, 3, 4, 5)\n"
     ]
    }
   ],
   "source": [
    "t1 = (1,2,3,4,5)\n",
    "print(t1)"
   ]
  },
  {
   "cell_type": "markdown",
   "metadata": {},
   "source": [
    "## Standard Libraries\n",
    "\n",
    "- Regular Expressions\n",
    "    - To validate the indian mobile\n",
    "    - To validate the email id\n",
    "    - To validate username\n",
    "    - To validate password\n",
    "\n",
    "- Understanding the regular expressions\n",
    "    - [0-9] -- Any digit matching\n",
    "    - [a-z] -- Any lower case matching\n",
    "    - [A-Z] -- Any upper case matching\n",
    "    - Cap symbol is used to represent the start of regular expresssion\n",
    "    - dollar symbol is used to represent the end of regular expression"
   ]
  },
  {
   "cell_type": "code",
   "execution_count": 11,
   "metadata": {},
   "outputs": [
    {
     "name": "stdout",
     "output_type": "stream",
     "text": [
      "False\n",
      "False\n"
     ]
    }
   ],
   "source": [
    "# Function to test 2 digit number as input\n",
    "# True -- Input 2 digit number\n",
    "# False -- Input not a 2 digit number\n",
    "\n",
    "import re\n",
    "def twoDigitCheck(n):\n",
    "    pattern = '^[0-9]{2}$'\n",
    "    n = str(n)\n",
    "    if re.match(pattern,n):\n",
    "        return True\n",
    "    return False\n",
    "\n",
    "print(twoDigitCheck(12))\n",
    "print(twoDigitCheck(1234))"
   ]
  },
  {
   "cell_type": "code",
   "execution_count": 19,
   "metadata": {},
   "outputs": [
    {
     "name": "stdout",
     "output_type": "stream",
     "text": [
      "True\n",
      "False\n",
      "False\n"
     ]
    }
   ],
   "source": [
    "# Regular Expressions for username\n",
    "# Username -- should contain lower and upper case characters\n",
    "# Length -- Min 5 and Max 12\n",
    "\n",
    "def validateUsername(s):\n",
    "    pattern='^[a-zA-Z]{5,12}$'\n",
    "    if re.match(pattern,s):\n",
    "        return True\n",
    "    return False\n",
    "\n",
    "print(validateUsername(\"gitam\"))\n",
    "print(validateUsername(\"jk\"))   # Less than 5 characters\n",
    "print(validateUsername(\"qwertyuiopasdfghjkl\"))   # More than 12 characters"
   ]
  },
  {
   "cell_type": "markdown",
   "metadata": {},
   "source": [
    "### Regular Expressions\n",
    "- Regular expressions for roll no\n",
    "    - Example : 1521A0501 # Valid\n",
    "    - Example : 1438A0311 # Not valid"
   ]
  },
  {
   "cell_type": "markdown",
   "metadata": {},
   "source": [
    "## Regular expression for Indian mobile number\n",
    "- 10 digit Number\n",
    "    - First number starts from [6-9]\n",
    "    - Rest of 9 digits is between [0-9]\n",
    "        - Example : 7660904432 # True\n",
    "        - example : 2660904432 # false\n",
    "- 11 digit number\n",
    "    - first digit 0\n",
    "    - second digit [6-9]\n",
    "    - rest 9 digits [0-9]\n",
    "- 13 digit number\n",
    "    - first digit +\n",
    "    - second digit 9\n",
    "    - third digit 1\n",
    "    - fourth digit [6-9]\n",
    "    - rest 9 digit [0-9]\n",
    "    \n",
    "    "
   ]
  },
  {
   "cell_type": "code",
   "execution_count": 5,
   "metadata": {},
   "outputs": [
    {
     "name": "stdout",
     "output_type": "stream",
     "text": [
      "7660904432 valid number\n",
      "+918554555255 valid number\n"
     ]
    }
   ],
   "source": [
    "# rule 1 : ^[6-9][0-9]{9}$\n",
    "# rule 2 : ^[0][6-9][0-9]{9}$\n",
    "# rule 3 : ^[+][9][1][6-9][0-9]{9}$\n",
    "\n",
    "import re\n",
    "def checkValid(n):\n",
    "    pattern=\"^[6-9][0-9]{9}$|^[0][6-9][0-9]{9}$|^[+][9][1][6-9][0-9]{9}$\"\n",
    "    n=str(n)\n",
    "    if  re.match(pattern,n):\n",
    "        print(n,\"valid number\")\n",
    "    else:\n",
    "        print(n, \"not valid\")\n",
    "    return\n",
    "\n",
    "checkValid(\"7660904432\")\n",
    "checkValid(\"+918554555255\")"
   ]
  },
  {
   "cell_type": "markdown",
   "metadata": {},
   "source": [
    "### Validate EmailID\n",
    "\n",
    "- Username :\n",
    "    - len of string will be [6-15]\n",
    "    - no special character except underscore(_) and dot(.)\n",
    "    - Username should not begin with underscore and (.)\n",
    "    - all character set (digits ,lower case , upper case) can be used\n",
    "        - example : e2fd_2312\n",
    "        \n",
    "- Domain name\n",
    "    - length of strin will be [3-15]\n",
    "    - no special characters\n",
    "    - all character set (digits ,lower case , upper case) can be used\n",
    "    \n",
    "- Extenstions\n",
    "    - length of string [2-4]\n",
    "    - no special characters allowed\n",
    "    - charcter set will be lower case characters\n",
    "    \n",
    "    "
   ]
  },
  {
   "cell_type": "code",
   "execution_count": 13,
   "metadata": {},
   "outputs": [
    {
     "data": {
      "text/plain": [
       "True"
      ]
     },
     "execution_count": 13,
     "metadata": {},
     "output_type": "execute_result"
    }
   ],
   "source": [
    "# Username : ^[a-zA-Z0-9][a-zA-Z0-9_.]{5,14}$\n",
    "# Domain name : ^[a-z0-9]{3,15}$\n",
    "# Extension : ^[a-z]{2,4}$\n",
    "\n",
    "def checkEmail(s):\n",
    "    pattern = \"^[a-zA-Z0-9][a-zA-Z0-9_.]{5,14}[@][a-z0-9]{3,15}[.][a-z]{2,4}$\"\n",
    "    if re.match(pattern,s):\n",
    "        return True\n",
    "    return False\n",
    "\n",
    "checkEmail(\"qwert12@gmail.com\")"
   ]
  },
  {
   "cell_type": "markdown",
   "metadata": {},
   "source": [
    "### Python Graphics\n",
    "    - Lib -turtle"
   ]
  },
  {
   "cell_type": "markdown",
   "metadata": {},
   "source": [
    "## Package, Module and Sub package\n",
    "### package\n",
    "        - A collection of modules (single python file.py)\n",
    "        \n",
    "### Module\n",
    "        - A single python file contains group of functions\n",
    "\n",
    "\n",
    "# Package -> Sub-package -> Module -> Function -> Statements"
   ]
  },
  {
   "cell_type": "code",
   "execution_count": 1,
   "metadata": {},
   "outputs": [
    {
     "data": {
      "text/plain": [
       "123"
      ]
     },
     "execution_count": 1,
     "metadata": {},
     "output_type": "execute_result"
    }
   ],
   "source": [
    "# Math package\n",
    "\n",
    "import math   # Imports all functions into python program\n",
    "math.floor(123.45)  # returns integer value"
   ]
  },
  {
   "cell_type": "code",
   "execution_count": 20,
   "metadata": {},
   "outputs": [
    {
     "data": {
      "text/plain": [
       "123"
      ]
     },
     "execution_count": 20,
     "metadata": {},
     "output_type": "execute_result"
    }
   ],
   "source": [
    "math.ceil(122.456)"
   ]
  },
  {
   "cell_type": "code",
   "execution_count": 21,
   "metadata": {},
   "outputs": [
    {
     "data": {
      "text/plain": [
       "3628800"
      ]
     },
     "execution_count": 21,
     "metadata": {},
     "output_type": "execute_result"
    }
   ],
   "source": [
    "from math import factorial as fact   # Imports only specific function\n",
    "fact(10)"
   ]
  },
  {
   "cell_type": "code",
   "execution_count": 22,
   "metadata": {},
   "outputs": [
    {
     "data": {
      "text/plain": [
       "5"
      ]
     },
     "execution_count": 22,
     "metadata": {},
     "output_type": "execute_result"
    }
   ],
   "source": [
    "from math import gcd as gcd\n",
    "gcd(10,15)"
   ]
  },
  {
   "cell_type": "code",
   "execution_count": 2,
   "metadata": {},
   "outputs": [
    {
     "name": "stdout",
     "output_type": "stream",
     "text": [
      "6 "
     ]
    }
   ],
   "source": [
    "# Random package\n",
    "\n",
    "import random\n",
    "# Function to generate the N numbers in a given range\n",
    "def generateRandNum(n,l,u):\n",
    "    for i in range(0,n):\n",
    "        print(random.randint(l,u),end=\" \")\n",
    "    return\n",
    "\n",
    "generateRandNum(1,0,9)"
   ]
  },
  {
   "cell_type": "code",
   "execution_count": 47,
   "metadata": {},
   "outputs": [
    {
     "name": "stdout",
     "output_type": "stream",
     "text": [
      "better luck next time\n"
     ]
    }
   ],
   "source": [
    "# Create a game\n",
    "# try to generate 20 numbers\n",
    "# Input : number\n",
    "# Output : present : Congrats\n",
    "#          not prsent : try again\n",
    "\n",
    "from random import randint as rand\n",
    "def generateNum(n,l,u):\n",
    "    li=[]\n",
    "    for i in range(0,n):\n",
    "        li.append(rand(l,u))\n",
    "    return li\n",
    "\n",
    "def check(n):\n",
    "    li=generateNum(10,1,50)\n",
    "    if n in li:\n",
    "        print(\"congrats\")\n",
    "    else:\n",
    "        print(\"better luck next time\")\n",
    "    return\n",
    "\n",
    "check(37)"
   ]
  },
  {
   "cell_type": "code",
   "execution_count": 1,
   "metadata": {},
   "outputs": [],
   "source": [
    "# Turtle Package\n",
    "\n",
    "import turtle as tt\n",
    "a1= tt.Turtle()\n",
    "a1.backward(100)\n",
    "tt.done()\n"
   ]
  },
  {
   "cell_type": "code",
   "execution_count": null,
   "metadata": {},
   "outputs": [],
   "source": []
  }
 ],
 "metadata": {
  "kernelspec": {
   "display_name": "Python 3",
   "language": "python",
   "name": "python3"
  },
  "language_info": {
   "codemirror_mode": {
    "name": "ipython",
    "version": 3
   },
   "file_extension": ".py",
   "mimetype": "text/x-python",
   "name": "python",
   "nbconvert_exporter": "python",
   "pygments_lexer": "ipython3",
   "version": "3.7.3"
  }
 },
 "nbformat": 4,
 "nbformat_minor": 2
}
